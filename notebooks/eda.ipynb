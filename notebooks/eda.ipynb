{
 "cells": [
  {
   "cell_type": "code",
   "execution_count": 2,
   "metadata": {},
   "outputs": [],
   "source": [
    "import sys\n",
    "sys.path.append('../scripts')\n",
    "import load_data\n",
    "from load_data import load_env_variables, create_db_engine, fetch_data"
   ]
  },
  {
   "cell_type": "code",
   "execution_count": null,
   "metadata": {},
   "outputs": [],
   "source": [
    "import eda_analysis as eda\n",
    "\n",
    "# Load the dataset\n",
    "data = eda.load_data(\"your_dataset.csv\")\n",
    "\n",
    "# Handle missing values and outliers\n",
    "data = eda.handle_missing_values(data)\n",
    "data = eda.handle_outliers(data)\n",
    "\n",
    "# Segment users and compute decile summary\n",
    "data, decile_summary = eda.segment_users(data)\n",
    "print(\"Decile Summary:\")\n",
    "print(decile_summary)\n",
    "\n",
    "# Compute basic metrics\n",
    "basic_metrics = eda.compute_basic_metrics(data)\n",
    "print(\"Basic Metrics:\")\n",
    "print(basic_metrics)\n",
    "\n",
    "# Plot univariate analysis\n",
    "eda.plot_univariate_analysis(data, ['Total Data', 'Total Duration'])\n",
    "\n",
    "# Perform bivariate analysis\n",
    "app_columns = ['Social Media DL (Bytes)', 'Google DL (Bytes)', 'Email DL (Bytes)',\n",
    "               'Youtube DL (Bytes)', 'Netflix DL (Bytes)', 'Gaming DL (Bytes)', 'Other DL (Bytes)']\n",
    "eda.bivariate_analysis(data, app_columns)\n",
    "\n",
    "# Perform correlation analysis\n",
    "correlation_columns = [\n",
    "    'Social Media DL (Bytes)', 'Google DL (Bytes)', 'Email DL (Bytes)', \n",
    "    'Youtube DL (Bytes)', 'Netflix DL (Bytes)', 'Gaming DL (Bytes)', 'Other DL (Bytes)'\n",
    "]\n",
    "eda.correlation_analysis(data, correlation_columns)\n",
    "\n",
    "# Perform PCA\n",
    "pca_columns = app_columns + ['Total DL (Bytes)', 'Total UL (Bytes)', 'Total Duration']\n",
    "pca_result, explained_variance_ratio = eda.perform_pca(data, pca_columns)\n",
    "print(\"PCA Explained Variance Ratio:\")\n",
    "print(explained_variance_ratio)\n",
    "\n",
    "# Plot PCA results\n",
    "eda.plot_pca_results(data, pca_result)\n"
   ]
  }
 ],
 "metadata": {
  "kernelspec": {
   "display_name": "venv",
   "language": "python",
   "name": "python3"
  },
  "language_info": {
   "codemirror_mode": {
    "name": "ipython",
    "version": 3
   },
   "file_extension": ".py",
   "mimetype": "text/x-python",
   "name": "python",
   "nbconvert_exporter": "python",
   "pygments_lexer": "ipython3",
   "version": "3.12.0"
  }
 },
 "nbformat": 4,
 "nbformat_minor": 2
}
