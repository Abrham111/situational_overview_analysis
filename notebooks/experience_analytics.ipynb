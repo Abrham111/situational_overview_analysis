{
 "cells": [
  {
   "cell_type": "code",
   "execution_count": 1,
   "metadata": {},
   "outputs": [],
   "source": [
    "import sys\n",
    "sys.path.append('../scripts')\n",
    "from eda_analysis import load_data\n",
    "from experience_analytics import *"
   ]
  },
  {
   "cell_type": "code",
   "execution_count": 2,
   "metadata": {},
   "outputs": [],
   "source": [
    "# Load the data\n",
    "file_path = \"../datasets/xdr_data.csv\"\n",
    "data = load_data(file_path)"
   ]
  },
  {
   "cell_type": "code",
   "execution_count": 3,
   "metadata": {},
   "outputs": [
    {
     "data": {
      "text/html": [
       "<div>\n",
       "<style scoped>\n",
       "    .dataframe tbody tr th:only-of-type {\n",
       "        vertical-align: middle;\n",
       "    }\n",
       "\n",
       "    .dataframe tbody tr th {\n",
       "        vertical-align: top;\n",
       "    }\n",
       "\n",
       "    .dataframe thead th {\n",
       "        text-align: right;\n",
       "    }\n",
       "</style>\n",
       "<table border=\"1\" class=\"dataframe\">\n",
       "  <thead>\n",
       "    <tr style=\"text-align: right;\">\n",
       "      <th></th>\n",
       "      <th>IMSI</th>\n",
       "      <th>TCP Retransmission</th>\n",
       "      <th>RTT</th>\n",
       "      <th>Throughput</th>\n",
       "      <th>Handset Type</th>\n",
       "    </tr>\n",
       "  </thead>\n",
       "  <tbody>\n",
       "    <tr>\n",
       "      <th>0</th>\n",
       "      <td>2.040471e+14</td>\n",
       "      <td>0.0</td>\n",
       "      <td>0.0</td>\n",
       "      <td>2.0</td>\n",
       "      <td>Quectel Wireless. Quectel Ec21-E</td>\n",
       "    </tr>\n",
       "    <tr>\n",
       "      <th>1</th>\n",
       "      <td>2.040808e+14</td>\n",
       "      <td>0.0</td>\n",
       "      <td>0.0</td>\n",
       "      <td>1.0</td>\n",
       "      <td>Quectel Wireless. Quectel Ec25-E</td>\n",
       "    </tr>\n",
       "    <tr>\n",
       "      <th>2</th>\n",
       "      <td>2.082001e+14</td>\n",
       "      <td>0.0</td>\n",
       "      <td>303.0</td>\n",
       "      <td>109.0</td>\n",
       "      <td>Dn Electronics Danew Konnect 350</td>\n",
       "    </tr>\n",
       "    <tr>\n",
       "      <th>3</th>\n",
       "      <td>2.082001e+14</td>\n",
       "      <td>27979.0</td>\n",
       "      <td>84.0</td>\n",
       "      <td>754.0</td>\n",
       "      <td>Samsung Galaxy Grand (Gt-I9060X)</td>\n",
       "    </tr>\n",
       "    <tr>\n",
       "      <th>4</th>\n",
       "      <td>2.082001e+14</td>\n",
       "      <td>0.0</td>\n",
       "      <td>92.0</td>\n",
       "      <td>80.5</td>\n",
       "      <td>Apple iPhone 6S (A1688)</td>\n",
       "    </tr>\n",
       "    <tr>\n",
       "      <th>...</th>\n",
       "      <td>...</td>\n",
       "      <td>...</td>\n",
       "      <td>...</td>\n",
       "      <td>...</td>\n",
       "      <td>...</td>\n",
       "    </tr>\n",
       "    <tr>\n",
       "      <th>107260</th>\n",
       "      <td>2.082099e+14</td>\n",
       "      <td>0.0</td>\n",
       "      <td>0.0</td>\n",
       "      <td>15.0</td>\n",
       "      <td>Samsung Galaxy J3 (Sm-J330)</td>\n",
       "    </tr>\n",
       "    <tr>\n",
       "      <th>107261</th>\n",
       "      <td>2.082099e+14</td>\n",
       "      <td>0.0</td>\n",
       "      <td>0.0</td>\n",
       "      <td>15.0</td>\n",
       "      <td>Samsung Sm-G390F</td>\n",
       "    </tr>\n",
       "    <tr>\n",
       "      <th>107262</th>\n",
       "      <td>2.082099e+14</td>\n",
       "      <td>0.0</td>\n",
       "      <td>47.0</td>\n",
       "      <td>878.0</td>\n",
       "      <td>Samsung Sm-G390F</td>\n",
       "    </tr>\n",
       "    <tr>\n",
       "      <th>107263</th>\n",
       "      <td>2.082522e+14</td>\n",
       "      <td>0.0</td>\n",
       "      <td>0.0</td>\n",
       "      <td>2.0</td>\n",
       "      <td>Asustek Zenfone Max Pro(M1)</td>\n",
       "    </tr>\n",
       "    <tr>\n",
       "      <th>107264</th>\n",
       "      <td>2.140743e+14</td>\n",
       "      <td>0.0</td>\n",
       "      <td>58.0</td>\n",
       "      <td>7.0</td>\n",
       "      <td>Huawei Me909S-120</td>\n",
       "    </tr>\n",
       "  </tbody>\n",
       "</table>\n",
       "<p>107265 rows × 5 columns</p>\n",
       "</div>"
      ],
      "text/plain": [
       "                IMSI  TCP Retransmission    RTT  Throughput  \\\n",
       "0       2.040471e+14                 0.0    0.0         2.0   \n",
       "1       2.040808e+14                 0.0    0.0         1.0   \n",
       "2       2.082001e+14                 0.0  303.0       109.0   \n",
       "3       2.082001e+14             27979.0   84.0       754.0   \n",
       "4       2.082001e+14                 0.0   92.0        80.5   \n",
       "...              ...                 ...    ...         ...   \n",
       "107260  2.082099e+14                 0.0    0.0        15.0   \n",
       "107261  2.082099e+14                 0.0    0.0        15.0   \n",
       "107262  2.082099e+14                 0.0   47.0       878.0   \n",
       "107263  2.082522e+14                 0.0    0.0         2.0   \n",
       "107264  2.140743e+14                 0.0   58.0         7.0   \n",
       "\n",
       "                            Handset Type  \n",
       "0       Quectel Wireless. Quectel Ec21-E  \n",
       "1       Quectel Wireless. Quectel Ec25-E  \n",
       "2       Dn Electronics Danew Konnect 350  \n",
       "3       Samsung Galaxy Grand (Gt-I9060X)  \n",
       "4                Apple iPhone 6S (A1688)  \n",
       "...                                  ...  \n",
       "107260       Samsung Galaxy J3 (Sm-J330)  \n",
       "107261                  Samsung Sm-G390F  \n",
       "107262                  Samsung Sm-G390F  \n",
       "107263       Asustek Zenfone Max Pro(M1)  \n",
       "107264                 Huawei Me909S-120  \n",
       "\n",
       "[107265 rows x 5 columns]"
      ]
     },
     "execution_count": 3,
     "metadata": {},
     "output_type": "execute_result"
    }
   ],
   "source": [
    "# Aggregated metrics per customer\n",
    "aggregate_per_customer(data)"
   ]
  },
  {
   "cell_type": "code",
   "execution_count": 4,
   "metadata": {},
   "outputs": [
    {
     "name": "stdout",
     "output_type": "stream",
     "text": [
      "Top TCP values: [4344115651.0, 4301477439.0, 4294431965.0, 4291464950.0, 4288120860.0, 4275491713.0, 4268647350.0, 4261616039.0, 4260174145.0, 4254659643.0]\n",
      "Bottom TCP values: [0.0, 0.0, 0.0, 0.0, 0.0, 0.0, 0.0, 0.0, 0.0, 0.0]\n",
      "Most Frequent TCP values: [0.0, 2660.0, 5320.0, 6650.0, 3990.0, 7980.0, 1873.0, 15960.0, 2648.0, 2385.0]\n"
     ]
    }
   ],
   "source": [
    "# Top, bottom and frequent values of TCP values\n",
    "tcp_stats = compute_top_bottom_frequent(data, column=\"TCP Retransmission\")\n",
    "print(\"Top TCP values:\", tcp_stats[\"top\"])\n",
    "print(\"Bottom TCP values:\", tcp_stats[\"bottom\"])\n",
    "print(\"Most Frequent TCP values:\", tcp_stats[\"most_frequent\"])"
   ]
  },
  {
   "cell_type": "code",
   "execution_count": 5,
   "metadata": {},
   "outputs": [
    {
     "name": "stdout",
     "output_type": "stream",
     "text": [
      "Top RTT values: [96924.0, 64641.0, 55812.0, 54848.0, 27278.0, 26300.0, 25922.0, 25715.0, 25388.0, 24738.0]\n",
      "Bottom RTT values: [0.0, 0.0, 0.0, 0.0, 0.0, 0.0, 0.0, 0.0, 0.0, 0.0]\n",
      "Most Frequent RTT values: [0.0, 29.0, 39.0, 38.0, 40.0, 30.0, 28.0, 49.0, 41.0, 31.0]\n"
     ]
    }
   ],
   "source": [
    "# Top, bottom and frequent values of RTT\n",
    "tcp_stats = compute_top_bottom_frequent(data, column=\"RTT\")\n",
    "print(\"Top RTT values:\", tcp_stats[\"top\"])\n",
    "print(\"Bottom RTT values:\", tcp_stats[\"bottom\"])\n",
    "print(\"Most Frequent RTT values:\", tcp_stats[\"most_frequent\"])"
   ]
  },
  {
   "cell_type": "code",
   "execution_count": 6,
   "metadata": {},
   "outputs": [
    {
     "name": "stdout",
     "output_type": "stream",
     "text": [
      "                                           Handset Type    Throughput\n",
      "0                            A-Link Telecom I. Cubot A5  23510.000000\n",
      "1                     A-Link Telecom I. Cubot Note Plus   6699.000000\n",
      "2                        A-Link Telecom I. Cubot Note S   8937.000000\n",
      "3                          A-Link Telecom I. Cubot Nova  56217.000000\n",
      "4                         A-Link Telecom I. Cubot Power  69468.000000\n",
      "...                                                 ...           ...\n",
      "1391  Zte Zte Blade C2 Smartphone Android By Sfr Sta...     58.000000\n",
      "1392                          Zyxel Communicat. Lte7460  61956.000000\n",
      "1393                          Zyxel Communicat. Sbg3600  97351.000000\n",
      "1394                    Zyxel Communicat. Zyxel Wah7706   2173.000000\n",
      "1395                                          undefined  10060.613442\n",
      "\n",
      "[1396 rows x 2 columns]\n"
     ]
    }
   ],
   "source": [
    "# The distribution of a column grouped by another column.\n",
    "# Distribution of average throughput per handset type\n",
    "throughput_distribution = compute_distribution(data, column=\"Throughput\", group_by=\"Handset Type\")\n",
    "print(throughput_distribution)"
   ]
  },
  {
   "cell_type": "code",
   "execution_count": 7,
   "metadata": {},
   "outputs": [
    {
     "name": "stdout",
     "output_type": "stream",
     "text": [
      "                                           Handset Type  TCP Retransmission\n",
      "0                            A-Link Telecom I. Cubot A5        0.000000e+00\n",
      "1                     A-Link Telecom I. Cubot Note Plus        6.162130e+05\n",
      "2                        A-Link Telecom I. Cubot Note S        4.141173e+07\n",
      "3                          A-Link Telecom I. Cubot Nova        1.371700e+05\n",
      "4                         A-Link Telecom I. Cubot Power        8.041000e+03\n",
      "...                                                 ...                 ...\n",
      "1391  Zte Zte Blade C2 Smartphone Android By Sfr Sta...        0.000000e+00\n",
      "1392                          Zyxel Communicat. Lte7460        4.127655e+07\n",
      "1393                          Zyxel Communicat. Sbg3600        5.348694e+07\n",
      "1394                    Zyxel Communicat. Zyxel Wah7706        0.000000e+00\n",
      "1395                                          undefined        8.761065e+05\n",
      "\n",
      "[1396 rows x 2 columns]\n"
     ]
    }
   ],
   "source": [
    "# Distribution of average TCP retransmission per handset type\n",
    "tcp_retrans_distribution = compute_distribution(data, column=\"TCP Retransmission\", group_by=\"Handset Type\")\n",
    "print(tcp_retrans_distribution)"
   ]
  },
  {
   "cell_type": "code",
   "execution_count": 11,
   "metadata": {},
   "outputs": [
    {
     "name": "stdout",
     "output_type": "stream",
     "text": [
      "Cluster Centers:\n",
      "   TCP Retransmission           RTT    Throughput\n",
      "0        1.157070e+06    100.418098   4386.939401\n",
      "1        4.221319e+07    107.094570  62901.673495\n",
      "2        0.000000e+00  68056.250000    103.500000\n",
      "Cluster\n",
      "0    122696\n",
      "1     27301\n",
      "2         4\n",
      "Name: count, dtype: int64\n"
     ]
    }
   ],
   "source": [
    "# k-means clustering \n",
    "metrics = ['TCP Retransmission', 'RTT', 'Throughput']  # Select relevant columns\n",
    "df_with_clusters, cluster_centers = perform_kmeans_clustering(data, metrics, n_clusters=3)\n",
    "\n",
    "# Display cluster centers for interpretation\n",
    "print(\"Cluster Centers:\")\n",
    "print(cluster_centers)\n",
    "\n",
    "# Example: Count users in each cluster\n",
    "print(df_with_clusters['Cluster'].value_counts())\n"
   ]
  }
 ],
 "metadata": {
  "kernelspec": {
   "display_name": "venv",
   "language": "python",
   "name": "python3"
  },
  "language_info": {
   "codemirror_mode": {
    "name": "ipython",
    "version": 3
   },
   "file_extension": ".py",
   "mimetype": "text/x-python",
   "name": "python",
   "nbconvert_exporter": "python",
   "pygments_lexer": "ipython3",
   "version": "3.12.0"
  }
 },
 "nbformat": 4,
 "nbformat_minor": 2
}
